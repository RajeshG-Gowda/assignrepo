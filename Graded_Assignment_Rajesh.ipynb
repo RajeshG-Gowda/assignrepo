{
 "cells": [
  {
   "cell_type": "markdown",
   "id": "e27a4455",
   "metadata": {},
   "source": [
    "<h1>My Jupyter Notebook on IBM Watson Studio</h1> "
   ]
  },
  {
   "cell_type": "markdown",
   "id": "926d225e",
   "metadata": {},
   "source": [
    " **Rajesh G**"
   ]
  },
  {
   "cell_type": "markdown",
   "id": "bde5816e",
   "metadata": {},
   "source": [
    " Data Analyst"
   ]
  },
  {
   "cell_type": "markdown",
   "id": "4917d550",
   "metadata": {},
   "source": [
    "*Being worked as Data and BI Analyst for a long period now i wanted to learn more about data science* "
   ]
  },
  {
   "cell_type": "markdown",
   "id": "4d496fcb",
   "metadata": {},
   "source": [
    "<h3>Sum of two numbers</h3>"
   ]
  },
  {
   "cell_type": "code",
   "execution_count": 2,
   "id": "36c5c2b3",
   "metadata": {},
   "outputs": [
    {
     "name": "stdout",
     "output_type": "stream",
     "text": [
      "10\n"
     ]
    }
   ],
   "source": [
    "a=5\n",
    "b=5\n",
    "c=a+b\n",
    "print(c)"
   ]
  },
  {
   "cell_type": "markdown",
   "id": "a50c6246",
   "metadata": {},
   "source": [
    "---\n",
    "Numbered List\n",
    "---\n",
    "1. Asia\n",
    "3. Africa\n",
    "2. Europe\n",
    "5. United States\n",
    "---\n",
    "Bulleted List\n",
    "---\n",
    "* Asia\n",
    "* Africa\n",
    "* Europe\n",
    "* United States\n",
    "---\n",
    "I love supporting the **[EFF](https://eff.org)*\n",
    "---"
   ]
  }
 ],
 "metadata": {
  "kernelspec": {
   "display_name": "Python 3 (ipykernel)",
   "language": "python",
   "name": "python3"
  },
  "language_info": {
   "codemirror_mode": {
    "name": "ipython",
    "version": 3
   },
   "file_extension": ".py",
   "mimetype": "text/x-python",
   "name": "python",
   "nbconvert_exporter": "python",
   "pygments_lexer": "ipython3",
   "version": "3.9.13"
  }
 },
 "nbformat": 4,
 "nbformat_minor": 5
}
